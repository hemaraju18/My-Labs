{
  "metadata": {
    "language_info": {
      "codemirror_mode": {
        "name": "python",
        "version": 3
      },
      "file_extension": ".py",
      "mimetype": "text/x-python",
      "name": "python",
      "nbconvert_exporter": "python",
      "pygments_lexer": "ipython3",
      "version": "3.8"
    },
    "kernelspec": {
      "name": "python",
      "display_name": "Pyolite",
      "language": "python"
    }
  },
  "nbformat_minor": 4,
  "nbformat": 4,
  "cells": [
    {
      "cell_type": "markdown",
      "source": "# My Jupyter Notebook on IBM Watson Studio",
      "metadata": {}
    },
    {
      "cell_type": "markdown",
      "source": "**Varadi Hemaraju**\n\nSubject Matter Expert(SME)",
      "metadata": {}
    },
    {
      "cell_type": "markdown",
      "source": "*I'm interested in datascience as I like to uncover the hidden insights in the data*",
      "metadata": {}
    },
    {
      "cell_type": "markdown",
      "source": "### In the next cell I will add the numbers 9 and 7.",
      "metadata": {}
    },
    {
      "cell_type": "code",
      "source": "9+7",
      "metadata": {
        "trusted": true
      },
      "execution_count": 1,
      "outputs": [
        {
          "execution_count": 1,
          "output_type": "execute_result",
          "data": {
            "text/plain": "16"
          },
          "metadata": {}
        }
      ]
    },
    {
      "cell_type": "markdown",
      "source": "Here it is an horizontal rule\n***\n\n- The bulleted list\n1. The numbered list\n\nHere the table\n\n|S.no|Name| Score |\n|----|----|----|\n|1|Karthik|95|\n|2|Tippu|93|\n|3|Sai|92|\n|4|Harish|91|\n\n[IBM Data Science Professional Certificate](https://www.coursera.org/professional-certificates/ibm-data-science)\n\nCode/syntax highlighter \n\nthe code can be `highlighted`\n\n> It is a blocked quote\n\nIt is a text that has ~~strike through~~\n\nHere the image\n\n![alt text](data:image/jpeg;base64,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)\n\n\n\n",
      "metadata": {}
    },
    {
      "cell_type": "code",
      "source": "type(1.22)\n",
      "metadata": {
        "trusted": true
      },
      "execution_count": 1,
      "outputs": [
        {
          "execution_count": 1,
          "output_type": "execute_result",
          "data": {
            "text/plain": "float"
          },
          "metadata": {}
        }
      ]
    },
    {
      "cell_type": "code",
      "source": "type(True)",
      "metadata": {
        "trusted": true
      },
      "execution_count": 3,
      "outputs": [
        {
          "execution_count": 3,
          "output_type": "execute_result",
          "data": {
            "text/plain": "bool"
          },
          "metadata": {}
        }
      ]
    },
    {
      "cell_type": "code",
      "source": "bool(1)\n",
      "metadata": {
        "trusted": true
      },
      "execution_count": 4,
      "outputs": [
        {
          "execution_count": 4,
          "output_type": "execute_result",
          "data": {
            "text/plain": "True"
          },
          "metadata": {}
        }
      ]
    },
    {
      "cell_type": "code",
      "source": "int(True)\n",
      "metadata": {
        "trusted": true
      },
      "execution_count": 6,
      "outputs": [
        {
          "execution_count": 6,
          "output_type": "execute_result",
          "data": {
            "text/plain": "1"
          },
          "metadata": {}
        }
      ]
    },
    {
      "cell_type": "code",
      "source": "int(F)\n",
      "metadata": {
        "trusted": true
      },
      "execution_count": 7,
      "outputs": [
        {
          "ename": "<class 'NameError'>",
          "evalue": "name 'F' is not defined",
          "traceback": [
            "\u001b[0;31m---------------------------------------------------------------------------\u001b[0m",
            "\u001b[0;31mNameError\u001b[0m                                 Traceback (most recent call last)",
            "Cell \u001b[0;32mIn [7], line 1\u001b[0m\n\u001b[0;32m----> 1\u001b[0m \u001b[38;5;28mint\u001b[39m(\u001b[43mF\u001b[49m)\n",
            "\u001b[0;31mNameError\u001b[0m: name 'F' is not defined"
          ],
          "output_type": "error"
        }
      ]
    },
    {
      "cell_type": "code",
      "source": "",
      "metadata": {},
      "execution_count": null,
      "outputs": []
    }
  ]
}